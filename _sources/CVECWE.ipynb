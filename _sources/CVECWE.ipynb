{
 "cells": [
  {
   "cell_type": "markdown",
   "id": "serious-pressing",
   "metadata": {},
   "source": [
    "# CWE Data\n",
    "---"
   ]
  },
  {
   "cell_type": "code",
   "execution_count": 1,
   "id": "91b44dc2",
   "metadata": {
    "execution": {
     "iopub.execute_input": "2024-05-06T04:14:53.445486Z",
     "iopub.status.busy": "2024-05-06T04:14:53.445311Z",
     "iopub.status.idle": "2024-05-06T04:14:54.050635Z",
     "shell.execute_reply": "2024-05-06T04:14:54.050108Z"
    },
    "tags": [
     "remove-cell"
    ]
   },
   "outputs": [
    {
     "data": {
      "text/html": [
       "<script>\n",
       "    if (document.body.dataset.jpThemeLight == \"false\" || // Jupyter Lab\n",
       "        document.body.dataset.vscodeThemeKind == \"vscode-dark\" || // VS Code\n",
       "        document.documentElement.dataset.theme == \"dark\" || // Jupyter Book\n",
       "        window.matchMedia('(prefers-color-scheme: dark)').matches) {\n",
       "        document.documentElement.classList.add('dark');\n",
       "    }\n",
       "    else {\n",
       "        document.documentElement.classList.remove('dark');\n",
       "    }\n",
       "</script>\n"
      ],
      "text/plain": [
       "<IPython.core.display.HTML object>"
      ]
     },
     "metadata": {},
     "output_type": "display_data"
    }
   ],
   "source": [
    "from IPython.core.magic import register_cell_magic\n",
    "from IPython.display import Markdown\n",
    "import datetime\n",
    "from datetime import date\n",
    "import glob\n",
    "import json\n",
    "import logging\n",
    "import matplotlib.pyplot as plt\n",
    "import numpy as np\n",
    "import pandas as pd\n",
    "import plotly\n",
    "import warnings\n",
    "import calplot\n",
    "from itables import init_notebook_mode, show\n",
    "import itables.options as opt\n",
    "\n",
    "\n",
    "opt.dom = \"tpir\" \n",
    "opt.style = \"table-layout:auto;width:auto\"\n",
    "init_notebook_mode(all_interactive=True, connected=True)\n",
    "\n",
    "@register_cell_magic\n",
    "def markdown(line, cell):\n",
    "    return Markdown(cell.format(**globals()))\n",
    "\n",
    "\n",
    "logging.getLogger('matplotlib.font_manager').disabled = True\n",
    "warnings.filterwarnings(\"ignore\")\n",
    "pd.set_option('display.width', 500)\n",
    "pd.set_option('display.max_rows', 50)\n",
    "pd.set_option('display.max_columns', 10)"
   ]
  },
  {
   "cell_type": "code",
   "execution_count": 2,
   "id": "98bafc2f-2e20-4032-a091-ec2dc0ecb7a5",
   "metadata": {
    "execution": {
     "iopub.execute_input": "2024-05-06T04:14:54.053071Z",
     "iopub.status.busy": "2024-05-06T04:14:54.052678Z",
     "iopub.status.idle": "2024-05-06T04:15:13.770286Z",
     "shell.execute_reply": "2024-05-06T04:15:13.769661Z"
    },
    "tags": [
     "remove-cell"
    ]
   },
   "outputs": [],
   "source": [
    "row_accumulator = []\n",
    "for filename in glob.glob('nvd.jsonl'):\n",
    "    with open(filename, 'r', encoding='utf-8') as f:\n",
    "        nvd_data = json.load(f)\n",
    "        for entry in nvd_data:\n",
    "            cve = entry['cve']['id']\n",
    "            try:\n",
    "                assigner = entry['cve']['sourceIdentifier']\n",
    "            except KeyError:\n",
    "                assigner = 'Missing_Data'\n",
    "            try:\n",
    "                published_date = entry['cve']['published']\n",
    "            except KeyError:\n",
    "                published_date = 'Missing_Data'\n",
    "            try:\n",
    "                attack_vector = entry['cve']['metrics']['cvssMetricV31'][0]['cvssData']['attackVector']\n",
    "            except KeyError:\n",
    "                attack_vector = 'Missing_Data'\n",
    "            try:\n",
    "                attack_complexity = entry['cve']['metrics']['cvssMetricV31'][0]['cvssData']['attackComplexity']\n",
    "            except KeyError:\n",
    "                attack_complexity = 'Missing_Data'\n",
    "            try:\n",
    "                privileges_required = entry['cve']['metrics']['cvssMetricV31'][0]['cvssData']['privilegesRequired']\n",
    "            except KeyError:\n",
    "                privileges_required = 'Missing_Data'\n",
    "            try:\n",
    "                user_interaction = entry['cve']['metrics']['cvssMetricV31'][0]['cvssData']['userInteraction']\n",
    "            except KeyError:\n",
    "                user_interaction = 'Missing_Data'\n",
    "            try:\n",
    "                scope = entry['cve']['metrics']['cvssMetricV31'][0]['cvssData']['scope']\n",
    "            except KeyError:\n",
    "                scope = 'Missing_Data'\n",
    "            try:\n",
    "                confidentiality_impact = entry['cve']['metrics']['cvssMetricV31'][0]['cvssData']['confidentialityImpact']\n",
    "            except KeyError:\n",
    "                confidentiality_impact = 'Missing_Data'\n",
    "            try:\n",
    "                integrity_impact = entry['cve']['metrics']['cvssMetricV31'][0]['cvssData']['integrityImpact']\n",
    "            except KeyError:\n",
    "                integrity_impact = 'Missing_Data'\n",
    "            try:\n",
    "                availability_impact = entry['cve']['metrics']['cvssMetricV31'][0]['cvssData']['availabilityImpact']\n",
    "            except KeyError:\n",
    "                availability_impact = 'Missing_Data'\n",
    "            try:\n",
    "                base_score = entry['cve']['metrics']['cvssMetricV31'][0]['cvssData']['baseScore']\n",
    "            except KeyError:\n",
    "                base_score = '0.0'\n",
    "            try:\n",
    "                base_severity = entry['cve']['metrics']['cvssMetricV31'][0]['cvssData']['baseSeverity']\n",
    "            except KeyError:\n",
    "                base_severity = 'Missing_Data'\n",
    "            try:\n",
    "                exploitability_score = entry['cve']['metrics']['cvssMetricV31'][0]['exploitabilityScore']\n",
    "            except KeyError:\n",
    "                exploitability_score = 'Missing_Data'\n",
    "            try:\n",
    "                impact_score = entry['cve']['metrics']['cvssMetricV31'][0]['impactScore']\n",
    "            except KeyError:\n",
    "                impact_score = 'Missing_Data'\n",
    "            try:\n",
    "                cwe = entry['cve']['weaknesses'][0]['description'][0]['value']\n",
    "            except KeyError:\n",
    "                cwe = 'Missing_Data'\n",
    "            try:\n",
    "                description = entry['cve']['descriptions'][0]['value']\n",
    "            except IndexError:\n",
    "                description = ''\n",
    "            new_row = {\n",
    "                'CVE': cve,\n",
    "                'Published': published_date,\n",
    "                'AttackVector': attack_vector,\n",
    "                'AttackComplexity': attack_complexity,\n",
    "                'PrivilegesRequired': privileges_required,\n",
    "                'UserInteraction': user_interaction,\n",
    "                'Scope': scope,\n",
    "                'ConfidentialityImpact': confidentiality_impact,\n",
    "                'IntegrityImpact': integrity_impact,\n",
    "                'AvailabilityImpact': availability_impact,\n",
    "                'BaseScore': base_score,\n",
    "                'BaseSeverity': base_severity,\n",
    "                'ExploitabilityScore': exploitability_score,\n",
    "                'ImpactScore': impact_score,\n",
    "                'CWE': cwe,\n",
    "                'Description': description,\n",
    "                'Assigner' : assigner\n",
    "            }\n",
    "            if not description.startswith('rejected reason'): \n",
    "                row_accumulator.append(new_row)\n",
    "        nvd = pd.DataFrame(row_accumulator)\n",
    "        \n",
    "nvd['Published'] = pd.to_datetime(nvd['Published'])\n",
    "nvd = nvd.sort_values(by=['Published'])\n",
    "nvd = nvd.reset_index(drop=True)\n",
    "nvd['BaseScore'] = pd.to_numeric(nvd['BaseScore']);\n",
    "nvd['BaseScore'] = pd.to_numeric(nvd['BaseScore']);\n",
    "nvd['BaseScore'] = nvd['BaseScore'].replace(0, np.NaN);\n",
    "nvdcount = nvd['Published'].count()\n",
    "nvdunique = nvd['Published'].nunique()\n",
    "startdate = date(2000, 1, 1)\n",
    "enddate  = date.today()\n",
    "numberofdays = enddate - startdate \n",
    "per_day = nvdcount/numberofdays.days"
   ]
  },
  {
   "cell_type": "markdown",
   "id": "aa3ea191",
   "metadata": {
    "tags": [
     "hide-input"
    ]
   },
   "source": [
    "\n",
    "\n",
    "## CWE Data"
   ]
  },
  {
   "cell_type": "code",
   "execution_count": 3,
   "id": "6815f0a1",
   "metadata": {
    "execution": {
     "iopub.execute_input": "2024-05-06T04:15:13.773220Z",
     "iopub.status.busy": "2024-05-06T04:15:13.772880Z",
     "iopub.status.idle": "2024-05-06T04:15:14.088666Z",
     "shell.execute_reply": "2024-05-06T04:15:14.088061Z"
    },
    "tags": [
     "remove-input"
    ]
   },
   "outputs": [
    {
     "data": {
      "image/png": "[encoded data removed]",
      "text/plain": [
       "<Figure size 1000x1000 with 1 Axes>"
      ]
     },
     "metadata": {},
     "output_type": "display_data"
    }
   ],
   "source": [
    "nvd_cwe = nvd['CWE'].value_counts()\n",
    "nvd_cwe = nvd_cwe.reset_index()\n",
    "nvd_cwe.columns = ['CWE', 'CVEs']\n",
    "nvd_cwe_graph = nvd_cwe[nvd_cwe.CVEs > 100].head(25)\n",
    "plt.figure(figsize=(10,10));\n",
    "plt.barh(\"CWE\", \"CVEs\", data = nvd_cwe_graph, color=\"#001d82\");\n",
    "plt.xlabel(\"CVEs\"); \n",
    "plt.ylabel(\"CWE\") ;\n",
    "plt.title(\"Most Common CWE in CVE Records\");\n"
   ]
  },
  {
   "cell_type": "code",
   "execution_count": 4,
   "id": "04a26e54",
   "metadata": {
    "execution": {
     "iopub.execute_input": "2024-05-06T04:15:14.091016Z",
     "iopub.status.busy": "2024-05-06T04:15:14.090610Z",
     "iopub.status.idle": "2024-05-06T04:15:14.098346Z",
     "shell.execute_reply": "2024-05-06T04:15:14.097880Z"
    },
    "tags": [
     "remove-input"
    ]
   },
   "outputs": [
    {
     "data": {
      "text/html": [
       "<table id=\"itables_c84867e5_03e9_47f4_9d98_bb1d5cf6b438\" class=\"display nowrap\" data-quarto-disable-processing=\"true\" style=\"table-layout:auto;width:auto\">\n",
       "<thead>\n",
       "    <tr style=\"text-align: right;\">\n",
       "      \n",
       "      <th>CWE</th>\n",
       "      <th>CVEs</th>\n",
       "    </tr>\n",
       "  </thead><tbody><tr>\n",
       "<td style=\"vertical-align:middle; text-align:left\">\n",
       "<div style=\"float:left; margin-right: 10px;\">\n",
       "<a href=https://mwouts.github.io/itables/><svg class=\"main-svg\" xmlns=\"http://www.w3.org/2000/svg\" xmlns:xlink=\"http://www.w3.org/1999/xlink\"\n",
       "width=\"64\" viewBox=\"0 0 500 400\" style=\"font-family: 'Droid Sans', sans-serif;\">\n",
       "    <g style=\"fill:#d9d7fc\">\n",
       "        <path d=\"M100,400H500V357H100Z\" />\n",
       "        <path d=\"M100,300H400V257H100Z\" />\n",
       "        <path d=\"M0,200H400V157H0Z\" />\n",
       "        <path d=\"M100,100H500V57H100Z\" />\n",
       "        <path d=\"M100,350H500V307H100Z\" />\n",
       "        <path d=\"M100,250H400V207H100Z\" />\n",
       "        <path d=\"M0,150H400V107H0Z\" />\n",
       "        <path d=\"M100,50H500V7H100Z\" />\n",
       "    </g>\n",
       "    <g style=\"fill:#1a1366;stroke:#1a1366;\">\n",
       "   <rect x=\"100\" y=\"7\" width=\"400\" height=\"43\">\n",
       "    <animate\n",
       "      attributeName=\"width\"\n",
       "      values=\"0;400;0\"\n",
       "      dur=\"5s\"\n",
       "      repeatCount=\"indefinite\" />\n",
       "      <animate\n",
       "      attributeName=\"x\"\n",
       "      values=\"100;100;500\"\n",
       "      dur=\"5s\"\n",
       "      repeatCount=\"indefinite\" />\n",
       "  </rect>\n",
       "        <rect x=\"0\" y=\"107\" width=\"400\" height=\"43\">\n",
       "    <animate\n",
       "      attributeName=\"width\"\n",
       "      values=\"0;400;0\"\n",
       "      dur=\"3.5s\"\n",
       "      repeatCount=\"indefinite\" />\n",
       "    <animate\n",
       "      attributeName=\"x\"\n",
       "      values=\"0;0;400\"\n",
       "      dur=\"3.5s\"\n",
       "      repeatCount=\"indefinite\" />\n",
       "  </rect>\n",
       "        <rect x=\"100\" y=\"207\" width=\"300\" height=\"43\">\n",
       "    <animate\n",
       "      attributeName=\"width\"\n",
       "      values=\"0;300;0\"\n",
       "      dur=\"3s\"\n",
       "      repeatCount=\"indefinite\" />\n",
       "    <animate\n",
       "      attributeName=\"x\"\n",
       "      values=\"100;100;400\"\n",
       "      dur=\"3s\"\n",
       "      repeatCount=\"indefinite\" />\n",
       "  </rect>\n",
       "        <rect x=\"100\" y=\"307\" width=\"400\" height=\"43\">\n",
       "    <animate\n",
       "      attributeName=\"width\"\n",
       "      values=\"0;400;0\"\n",
       "      dur=\"4s\"\n",
       "      repeatCount=\"indefinite\" />\n",
       "      <animate\n",
       "      attributeName=\"x\"\n",
       "      values=\"100;100;500\"\n",
       "      dur=\"4s\"\n",
       "      repeatCount=\"indefinite\" />\n",
       "  </rect>\n",
       "        <g style=\"fill:transparent;stroke-width:8; stroke-linejoin:round\" rx=\"5\">\n",
       "            <g transform=\"translate(45 50) rotate(-45)\">\n",
       "                <circle r=\"33\" cx=\"0\" cy=\"0\" />\n",
       "                <rect x=\"-8\" y=\"32\" width=\"16\" height=\"30\" />\n",
       "            </g>\n",
       "\n",
       "            <g transform=\"translate(450 152)\">\n",
       "                <polyline points=\"-15,-20 -35,-20 -35,40 25,40 25,20\" />\n",
       "                <rect x=\"-15\" y=\"-40\" width=\"60\" height=\"60\" />\n",
       "            </g>\n",
       "\n",
       "            <g transform=\"translate(50 352)\">\n",
       "                <polygon points=\"-35,-5 0,-40 35,-5\" />\n",
       "                <polygon points=\"-35,10 0,45 35,10\" />\n",
       "            </g>\n",
       "\n",
       "            <g transform=\"translate(75 250)\">\n",
       "                <polyline points=\"-30,30 -60,0 -30,-30\" />\n",
       "                <polyline points=\"0,30 -30,0 0,-30\" />\n",
       "            </g>\n",
       "\n",
       "            <g transform=\"translate(425 250) rotate(180)\">\n",
       "                <polyline points=\"-30,30 -60,0 -30,-30\" />\n",
       "                <polyline points=\"0,30 -30,0 0,-30\" />\n",
       "            </g>\n",
       "        </g>\n",
       "    </g>\n",
       "</svg>\n",
       "</a>\n",
       "</div>\n",
       "<div>\n",
       "Loading ITables v2.0.1 from the internet...\n",
       "(need <a href=https://mwouts.github.io/itables/troubleshooting.html>help</a>?)</td>\n",
       "</div>\n",
       "</tr></tbody>\n",
       "\n",
       "</table>\n",
       "<link href=\"https://www.unpkg.com/dt_for_itables@2.0.5/dt_bundle.css\" rel=\"stylesheet\">\n",
       "<script type=\"module\">\n",
       "    import {DataTable, jQuery as $} from 'https://www.unpkg.com/dt_for_itables@2.0.5/dt_bundle.js';\n",
       "\n",
       "    document.querySelectorAll(\"#itables_c84867e5_03e9_47f4_9d98_bb1d5cf6b438:not(.dataTable)\").forEach(table => {\n",
       "        // Define the table data\n",
       "        const data = [[\"NVD-CWE-Other\", 28673], [\"NVD-CWE-noinfo\", 27058], [\"CWE-79\", 26578], [\"Missing_Data\", 19915], [\"CWE-119\", 11527], [\"CWE-89\", 11323], [\"CWE-787\", 9375], [\"CWE-20\", 9256], [\"CWE-200\", 6843], [\"CWE-125\", 5833], [\"CWE-22\", 5833], [\"CWE-352\", 5618], [\"CWE-264\", 5151], [\"CWE-416\", 3976], [\"CWE-78\", 3352], [\"CWE-287\", 3152], [\"CWE-94\", 3089], [\"CWE-399\", 2496], [\"CWE-310\", 2404], [\"CWE-476\", 2329], [\"CWE-190\", 2202], [\"CWE-862\", 2194], [\"CWE-434\", 2147], [\"CWE-120\", 2074], [\"CWE-77\", 1441], [\"CWE-269\", 1422], [\"CWE-362\", 1394], [\"CWE-400\", 1338], [\"CWE-863\", 1275], [\"CWE-189\", 1205], [\"CWE-502\", 1199], [\"CWE-284\", 1176], [\"CWE-798\", 1147], [\"CWE-732\", 1134], [\"CWE-306\", 1044], [\"CWE-918\", 1022], [\"CWE-59\", 1018], [\"CWE-611\", 969], [\"CWE-295\", 955], [\"CWE-601\", 914], [\"CWE-522\", 878], [\"CWE-276\", 834], [\"CWE-74\", 830], [\"CWE-255\", 706], [\"CWE-770\", 698], [\"CWE-532\", 677], [\"CWE-427\", 642], [\"CWE-668\", 597], [\"CWE-121\", 573], [\"CWE-319\", 567], [\"CWE-401\", 566], [\"CWE-835\", 528], [\"CWE-312\", 501], [\"CWE-203\", 496], [\"CWE-639\", 473], [\"CWE-426\", 448], [\"CWE-415\", 445], [\"CWE-755\", 441], [\"CWE-617\", 427], [\"CWE-327\", 410], [\"CWE-772\", 387], [\"CWE-254\", 383], [\"CWE-347\", 363], [\"CWE-843\", 352], [\"CWE-326\", 329], [\"CWE-345\", 328], [\"CWE-134\", 321], [\"CWE-307\", 315], [\"CWE-209\", 305], [\"CWE-129\", 305], [\"CWE-122\", 301], [\"CWE-369\", 293], [\"CWE-1321\", 292], [\"CWE-908\", 291], [\"CWE-613\", 284], [\"CWE-404\", 282], [\"CWE-754\", 282], [\"CWE-330\", 278], [\"CWE-384\", 275], [\"CWE-367\", 271], [\"CWE-665\", 267], [\"CWE-1021\", 262], [\"CWE-311\", 262], [\"CWE-16\", 258], [\"CWE-552\", 239], [\"CWE-674\", 230], [\"CWE-346\", 226], [\"CWE-19\", 223], [\"CWE-1236\", 212], [\"CWE-704\", 212], [\"CWE-290\", 206], [\"CWE-1333\", 203], [\"CWE-116\", 199], [\"CWE-824\", 198], [\"CWE-88\", 192], [\"CWE-191\", 191], [\"CWE-444\", 189], [\"CWE-281\", 178], [\"CWE-428\", 173], [\"CWE-17\", 165], [\"CWE-521\", 165], [\"CWE-917\", 159], [\"CWE-1188\", 152], [\"CWE-425\", 151], [\"CWE-640\", 147], [\"CWE-667\", 147], [\"CWE-610\", 146], [\"CWE-285\", 125], [\"CWE-294\", 124], [\"CWE-922\", 114], [\"CWE-1284\", 108], [\"CWE-459\", 103], [\"CWE-193\", 102], [\"CWE-829\", 101], [\"CWE-697\", 101], [\"CWE-494\", 99], [\"CWE-354\", 97], [\"CWE-252\", 97], [\"CWE-131\", 90], [\"CWE-338\", 85], [\"CWE-682\", 85], [\"CWE-91\", 79], [\"CWE-834\", 74], [\"CWE-916\", 72], [\"CWE-681\", 68], [\"CWE-909\", 68], [\"CWE-275\", 66], [\"CWE-331\", 65], [\"CWE-670\", 64], [\"CWE-212\", 63], [\"CWE-763\", 60], [\"CWE-436\", 56], [\"CWE-707\", 55], [\"CWE-693\", 52], [\"CWE-776\", 51], [\"CWE-706\", 49], [\"CWE-669\", 47], [\"CWE-662\", 47], [\"CWE-913\", 42], [\"CWE-749\", 40], [\"CWE-565\", 40], [\"CWE-93\", 39], [\"CWE-178\", 37], [\"CWE-388\", 33], [\"CWE-672\", 31], [\"CWE-320\", 30], [\"CWE-126\", 28], [\"CWE-266\", 27], [\"CWE-335\", 27], [\"CWE-321\", 27], [\"CWE-358\", 26], [\"CWE-822\", 26], [\"CWE-457\", 25], [\"CWE-73\", 25], [\"CWE-80\", 24], [\"CWE-113\", 24], [\"CWE-23\", 23], [\"CWE-470\", 22], [\"CWE-117\", 22], [\"CWE-273\", 21], [\"CWE-288\", 21], [\"CWE-250\", 21], [\"CWE-24\", 21], [\"CWE-256\", 20], [\"CWE-407\", 17], [\"CWE-924\", 17], [\"CWE-123\", 17], [\"CWE-788\", 16], [\"CWE-248\", 16], [\"CWE-259\", 15], [\"CWE-204\", 15], [\"CWE-305\", 15], [\"CWE-377\", 15], [\"CWE-184\", 15], [\"CWE-417\", 14], [\"CWE-90\", 14], [\"CWE-201\", 13], [\"CWE-118\", 13], [\"CWE-359\", 13], [\"CWE-538\", 12], [\"CWE-29\", 12], [\"CWE-185\", 12], [\"CWE-912\", 12], [\"CWE-95\", 11], [\"CWE-497\", 10], [\"CWE-789\", 10], [\"CWE-208\", 10], [\"CWE-36\", 10], [\"CWE-280\", 9], [\"CWE-297\", 9], [\"CWE-172\", 9], [\"CWE-823\", 9], [\"CWE-303\", 9], [\"CWE-385\", 9], [\"CWE-472\", 9], [\"CWE-130\", 9], [\"CWE-840\", 8], [\"CWE-379\", 8], [\"CWE-332\", 8], [\"CWE-197\", 8], [\"CWE-926\", 8], [\"CWE-15\", 8], [\"CWE-378\", 7], [\"CWE-361\", 7], [\"CWE-170\", 7], [\"CWE-927\", 7], [\"CWE-61\", 7], [\"CWE-1336\", 7], [\"CWE-799\", 7], [\"CWE-441\", 7], [\"CWE-698\", 7], [\"CWE-300\", 7], [\"CWE-1220\", 7], [\"CWE-614\", 6], [\"CWE-35\", 6], [\"CWE-703\", 6], [\"CWE-1286\", 6], [\"CWE-99\", 6], [\"CWE-838\", 6], [\"CWE-199\", 6], [\"CWE-92\", 6], [\"CWE-1287\", 6], [\"CWE-471\", 6], [\"CWE-257\", 6], [\"CWE-115\", 6], [\"CWE-489\", 6], [\"CWE-18\", 6], [\"CWE-150\", 5], [\"CWE-272\", 5], [\"CWE-406\", 5], [\"CWE-98\", 5], [\"CWE-530\", 5], [\"CWE-548\", 5], [\"CWE-1320\", 5], [\"CWE-460\", 5], [\"CWE-267\", 5], [\"CWE-1392\", 5], [\"CWE-942\", 5], [\"CWE-680\", 5], [\"CWE-440\", 5], [\"CWE-644\", 4], [\"CWE-778\", 4], [\"CWE-405\", 4], [\"CWE-664\", 4], [\"CWE-349\", 4], [\"CWE-805\", 4], [\"CWE-289\", 4], [\"CWE-648\", 4], [\"CWE-940\", 4], [\"CWE-1288\", 4], [\"CWE-1263\", 4], [\"CWE-353\", 4], [\"CWE-540\", 4], [\"CWE-592\", 3], [\"CWE-124\", 3], [\"CWE-268\", 3], [\"CWE-75\", 3], [\"CWE-390\", 3], [\"CWE-598\", 3], [\"CWE-915\", 3], [\"CWE-21\", 3], [\"CWE-274\", 3], [\"CWE-525\", 3], [\"CWE-183\", 3], [\"CWE-409\", 3], [\"CWE-1187\", 3], [\"CWE-451\", 3], [\"CWE-241\", 3], [\"CWE-643\", 3], [\"CWE-920\", 3], [\"CWE-591\", 3], [\"CWE-524\", 3], [\"CWE-523\", 3], [\"CWE-923\", 3], [\"CWE-620\", 3], [\"CWE-283\", 3], [\"CWE-253\", 3], [\"CWE-277\", 3], [\"CWE-1385\", 3], [\"CWE-261\", 3], [\"CWE-350\", 3], [\"CWE-325\", 3], [\"CWE-202\", 3], [\"CWE-308\", 3], [\"CWE-526\", 3], [\"CWE-323\", 3], [\"CWE-112\", 3], [\"CWE-302\", 3], [\"CWE-313\", 3], [\"CWE-473\", 2], [\"CWE-87\", 2], [\"CWE-214\", 2], [\"CWE-141\", 2], [\"CWE-25\", 2], [\"CWE-366\", 2], [\"CWE-1393\", 2], [\"CWE-1386\", 2], [\"CWE-842\", 2], [\"CWE-316\", 2], [\"CWE-825\", 2], [\"CWE-488\", 2], [\"CWE-265\", 2], [\"CWE-645\", 2], [\"CWE-1274\", 2], [\"CWE-833\", 2], [\"CWE-1077\", 2], [\"CWE-501\", 2], [\"CWE-612\", 2], [\"CWE-402\", 2], [\"CWE-420\", 2], [\"CWE-841\", 2], [\"CWE-1394\", 2], [\"CWE-76\", 2], [\"CWE-1269\", 2], [\"CWE-328\", 2], [\"CWE-1390\", 2], [\"CWE-233\", 2], [\"CWE-550\", 2], [\"CWE-622\", 2], [\"CWE-1004\", 2], [\"CWE-708\", 2], [\"CWE-657\", 2], [\"CWE-228\", 2], [\"CWE-567\", 2], [\"CWE-282\", 2], [\"CWE-821\", 2], [\"CWE-696\", 2], [\"CWE-1076\", 2], [\"CWE-760\", 2], [\"CWE-603\", 2], [\"CWE-757\", 2], [\"CWE-506\", 2], [\"CWE-114\", 2], [\"CWE-260\", 2], [\"CWE-642\", 2], [\"CWE-769\", 2], [\"CWE-534\", 2], [\"CWE-1\", 2], [\"CWE-943\", 2], [\"CWE-27\", 2], [\"CWE-539\", 2], [\"CWE-304\", 2], [\"CWE-456\", 2], [\"CWE-911\", 2], [\"CWE-468\", 2], [\"CWE-1022\", 2], [\"CWE-242\", 2], [\"CWE-194\", 2], [\"CWE-465\", 1], [\"CWE-686\", 1], [\"CWE-570\", 1], [\"CWE-837\", 1], [\"CWE-561\", 1], [\"CWE-1327\", 1], [\"CWE-475\", 1], [\"CWE-360\", 1], [\"CWE-625\", 1], [\"CWE-348\", 1], [\"CWE-1275\", 1], [\"CWE-231\", 1], [\"CWE-394\", 1], [\"CWE-149\", 1], [\"CWE-219\", 1], [\"CWE-1303\", 1], [\"CWE-1049\", 1], [\"CWE-1191\", 1], [\"CWE-419\", 1], [\"CWE-1342\", 1], [\"CWE-226\", 1], [\"CWE-1018\", 1], [\"CWE-41\", 1], [\"CWE-182\", 1], [\"CWE-764\", 1], [\"CWE-127\", 1], [\"CWE-1391\", 1], [\"CWE-783\", 1], [\"CWE-646\", 1], [\"CWE-1242\", 1], [\"CWE-650\", 1], [\"CWE-1357\", 1], [\"CWE-1107\", 1], [\"CWE-26\", 1], [\"CWE-466\", 1], [\"CWE-410\", 1], [\"CWE-421\", 1], [\"CWE-599\", 1], [\"CWE-249\", 1], [\"CWE-1295\", 1], [\"CWE-828\", 1], [\"CWE-762\", 1], [\"CWE-213\", 1], [\"CWE-820\", 1], [\"CWE-215\", 1], [\"CWE-653\", 1], [\"CWE-138\", 1], [\"CWE-334\", 1], [\"CWE-1241\", 1], [\"CWE-571\", 1], [\"CWE-364\", 1], [\"CWE-270\", 1], [\"CWE-649\", 1], [\"CWE-710\", 1], [\"CWE-807\", 1], [\"CWE-315\", 1], [\"CWE-1278\", 1], [\"CWE-1329\", 1], [\"CWE-240\", 1], [\"CWE-391\", 1], [\"CWE-363\", 1], [\"CWE-324\", 1], [\"CWE-759\", 1], [\"CWE-671\", 1], [\"CWE-187\", 1], [\"CWE-782\", 1], [\"CWE-527\", 1], [\"CWE-64\", 1], [\"CWE-317\", 1], [\"CWE-775\", 1], [\"CWE-895\", 1], [\"CWE-774\", 1], [\"CWE-216\", 1], [\"CWE-371\", 1], [\"CWE-628\", 1], [\"CWE-195\", 1], [\"CWE-573\", 1], [\"CWE-684\", 1], [\"CWE-279\", 1], [\"CWE-299\", 1], [\"CWE-342\", 1], [\"CWE-507\", 1], [\"CWE-271\", 1], [\"CWE-424\", 1], [\"CWE-395\", 1], [\"CWE-836\", 1], [\"CWE-602\", 1], [\"CWE-1230\", 1], [\"CWE-263\", 1], [\"CWE-28\", 1], [\"CWE-758\", 1], [\"CWE-691\", 1], [\"CWE-544\", 1], [\"CWE-830\", 1], [\"CWE-1270\", 1], [\"CWE-372\", 1], [\"CWE-232\", 1], [\"CWE-1285\", 1], [\"CWE-393\", 1], [\"CWE-278\", 1], [\"CWE-839\", 1], [\"CWE-636\", 1], [\"CWE-590\", 1], [\"CWE-547\", 1], [\"CWE-692\", 1], [\"CWE-562\", 1], [\"CWE-1258\", 1], [\"CWE-146\", 1], [\"CWE-690\", 1], [\"CWE-1108\", 1], [\"CWE-1026\", 1], [\"CWE-597\", 1], [\"CWE-455\", 1], [\"CWE-1103\", 1], [\"CWE-941\", 1], [\"CWE-229\", 1], [\"CWE-337\", 1], [\"CWE-641\", 1], [\"CWE-1282\", 1], [\"CWE-167\", 1], [\"CWE-921\", 1]];\n",
       "\n",
       "        // Define the dt_args\n",
       "        let dt_args = {\"scrollY\": \"400px\", \"scrollCollapse\": true, \"paging\": false, \"dom\": \"tpir\", \"order\": [], \"warn_on_dom\": true};\n",
       "        dt_args[\"data\"] = data;\n",
       "\n",
       "        \n",
       "        new DataTable(table, dt_args);\n",
       "    });\n",
       "</script>\n"
      ],
      "text/plain": [
       "<IPython.core.display.HTML object>"
      ]
     },
     "metadata": {},
     "output_type": "display_data"
    }
   ],
   "source": [
    "show(nvd_cwe, scrollY=\"400px\", scrollCollapse=True, paging=False)"
   ]
  },
  {
   "cell_type": "code",
   "execution_count": 5,
   "id": "20ee3a71",
   "metadata": {
    "execution": {
     "iopub.execute_input": "2024-05-06T04:15:14.100416Z",
     "iopub.status.busy": "2024-05-06T04:15:14.100095Z",
     "iopub.status.idle": "2024-05-06T04:15:14.103926Z",
     "shell.execute_reply": "2024-05-06T04:15:14.103371Z"
    },
    "tags": [
     "remove-input"
    ]
   },
   "outputs": [
    {
     "data": {
      "text/markdown": [
       "This report is updated automatically every day, last generated on: **2024-05-06 04:15:14.101016**"
      ],
      "text/plain": [
       "<IPython.core.display.Markdown object>"
      ]
     },
     "execution_count": 5,
     "metadata": {},
     "output_type": "execute_result"
    }
   ],
   "source": [
    "Markdown(f\"This report is updated automatically every day, last generated on: **{datetime.datetime.now()}**\")"
   ]
  }
 ],
 "metadata": {
  "kernelspec": {
   "display_name": "Python 3 (ipykernel)",
   "language": "python",
   "name": "python3"
  },
  "language_info": {
   "codemirror_mode": {
    "name": "ipython",
    "version": 3
   },
   "file_extension": ".py",
   "mimetype": "text/x-python",
   "name": "python",
   "nbconvert_exporter": "python",
   "pygments_lexer": "ipython3",
   "version": "3.11.9"
  },
  "vscode": {
   "interpreter": {
    "hash": "aee8b7b246df8f9039afb4144a1f6fd8d2ca17a180786b69acc140d282b71a49"
   }
  }
 },
 "nbformat": 4,
 "nbformat_minor": 5
}
