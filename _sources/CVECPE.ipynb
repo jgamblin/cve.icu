{
 "cells": [
  {
   "cell_type": "markdown",
   "id": "serious-pressing",
   "metadata": {},
   "source": [
    "# CPE Data\n",
    "---"
   ]
  },
  {
   "cell_type": "code",
   "execution_count": 1,
   "id": "91b44dc2",
   "metadata": {
    "execution": {
     "iopub.execute_input": "2025-04-07T08:18:20.575117Z",
     "iopub.status.busy": "2025-04-07T08:18:20.574712Z",
     "iopub.status.idle": "2025-04-07T08:18:21.204555Z",
     "shell.execute_reply": "2025-04-07T08:18:21.203960Z"
    },
    "tags": [
     "remove-cell"
    ]
   },
   "outputs": [
    {
     "data": {
      "text/html": [
       "<script>\n",
       "    let is_dark_theme = function () {\n",
       "        // Jupyter Lab\n",
       "        if ('jpThemeLight' in document.body.dataset)\n",
       "            return (document.body.dataset.jpThemeLight === \"false\");\n",
       "\n",
       "        // VS Code\n",
       "        if ('vscodeThemeKind' in document.body.dataset)\n",
       "            return document.body.dataset.vscodeThemeKind.includes('dark');\n",
       "\n",
       "        // Jupyter Book\n",
       "        if ('theme' in document.documentElement.dataset)\n",
       "            return document.documentElement.dataset.theme.includes('dark');\n",
       "\n",
       "        // Default\n",
       "        return window.matchMedia('(prefers-color-scheme: dark)').matches;\n",
       "    }\n",
       "\n",
       "    if (is_dark_theme()) {\n",
       "        document.documentElement.classList.add('dark');\n",
       "    }\n",
       "    else {\n",
       "        document.documentElement.classList.remove('dark');\n",
       "    }\n",
       "</script>\n"
      ],
      "text/plain": [
       "<IPython.core.display.HTML object>"
      ]
     },
     "metadata": {},
     "output_type": "display_data"
    }
   ],
   "source": [
    "# Import necessary libraries\n",
    "from IPython.core.magic import register_cell_magic\n",
    "from IPython.display import Markdown\n",
    "import datetime\n",
    "from datetime import date\n",
    "import glob\n",
    "import json\n",
    "import logging\n",
    "import matplotlib.pyplot as plt\n",
    "import numpy as np\n",
    "import pandas as pd\n",
    "import warnings\n",
    "from itables import init_notebook_mode, show\n",
    "import itables.options as opt\n",
    "\n",
    "# Initialize itables options\n",
    "opt.dom = \"tpir\"\n",
    "opt.style = \"table-layout:auto;width:auto\"\n",
    "init_notebook_mode(all_interactive=True, connected=True)\n",
    "\n",
    "# Register a custom cell magic for markdown\n",
    "@register_cell_magic\n",
    "def markdown(line, cell):\n",
    "    return Markdown(cell.format(**globals()))\n",
    "\n",
    "# Configure logging and warnings\n",
    "logging.getLogger('matplotlib.font_manager').disabled = True\n",
    "warnings.filterwarnings(\"ignore\")\n",
    "\n",
    "# Configure pandas display options\n",
    "pd.set_option('display.width', 500)\n",
    "pd.set_option('display.max_rows', 50)\n",
    "pd.set_option('display.max_columns', 10)\n"
   ]
  },
  {
   "cell_type": "code",
   "execution_count": 2,
   "id": "98bafc2f-2e20-4032-a091-ec2dc0ecb7a5",
   "metadata": {
    "execution": {
     "iopub.execute_input": "2025-04-07T08:18:21.206466Z",
     "iopub.status.busy": "2025-04-07T08:18:21.206240Z",
     "iopub.status.idle": "2025-04-07T08:18:45.720540Z",
     "shell.execute_reply": "2025-04-07T08:18:45.719882Z"
    },
    "tags": [
     "remove-cell"
    ]
   },
   "outputs": [],
   "source": [
    "row_accumulator = []\n",
    "\n",
    "for filename in glob.glob('nvd.jsonl'):\n",
    "    with open(filename, 'r', encoding='utf-8') as f:\n",
    "        nvd_data = json.load(f)\n",
    "        for entry in nvd_data:\n",
    "            if 'configurations' in entry['cve']:\n",
    "                for config in entry['cve']['configurations']:\n",
    "                    for node in config['nodes']:\n",
    "                        if 'cpeMatch' in node:\n",
    "                            for cpe in node['cpeMatch']:\n",
    "                                if cpe['vulnerable']:\n",
    "                                    cve = entry['cve']['id']\n",
    "                                    published_date = entry['cve'].get('published', 'Missing_Data')\n",
    "                                    cpe_string = cpe['criteria']\n",
    "                                    end = cpe.get('versionEndExcluding', 'None')\n",
    "                                    end2 = cpe.get('versionEndIncluding', 'None')\n",
    "                                    start = cpe.get('versionStartExcluding', 'None')\n",
    "                                    start2 = cpe.get('versionStartIncluding', 'None')\n",
    "\n",
    "                                    new_row = {\n",
    "                                        'CVE': cve,\n",
    "                                        'Published': published_date,\n",
    "                                        'CPE': cpe_string,\n",
    "                                        'StartI': start,\n",
    "                                        'StartE': start2,\n",
    "                                        'EndI': end,\n",
    "                                        'EndE': end2\n",
    "                                    }\n",
    "                                    row_accumulator.append(new_row)\n",
    "\n",
    "nvd = pd.DataFrame(row_accumulator)\n",
    "nvd['Published'] = pd.to_datetime(nvd['Published'], errors='coerce')\n",
    "thisyear = (nvd['Published'] > '2000-01-01') & (nvd['Published'] < '2026-01-01')\n",
    "nvd = nvd.loc[thisyear]\n",
    "nvd = nvd.sort_values(by=['Published'])"
   ]
  },
  {
   "attachments": {},
   "cell_type": "markdown",
   "id": "f0210783",
   "metadata": {
    "tags": [
     "hide-input"
    ]
   },
   "source": [
    "## CPE Data"
   ]
  },
  {
   "cell_type": "markdown",
   "id": "0c3388d0",
   "metadata": {},
   "source": [
    "### CVEs With Most CPEs"
   ]
  },
  {
   "cell_type": "code",
   "execution_count": 3,
   "id": "96ff98c6",
   "metadata": {
    "execution": {
     "iopub.execute_input": "2025-04-07T08:18:45.722866Z",
     "iopub.status.busy": "2025-04-07T08:18:45.722670Z",
     "iopub.status.idle": "2025-04-07T08:18:45.965913Z",
     "shell.execute_reply": "2025-04-07T08:18:45.965345Z"
    },
    "tags": [
     "remove-input"
    ]
   },
   "outputs": [
    {
     "data": {
      "text/html": [
       "<table id=\"itables_c9553420_3dc0_4ebd_8a1d_7aa4ffc6df6a\" class=\"display nowrap\" data-quarto-disable-processing=\"true\" style=\"table-layout:auto;width:auto\">\n",
       "<thead>\n",
       "    <tr style=\"text-align: right;\">\n",
       "      \n",
       "      <th>CVE</th>\n",
       "      <th>Count</th>\n",
       "    </tr>\n",
       "  </thead><tbody><tr>\n",
       "<td style=\"vertical-align:middle; text-align:left\">\n",
       "<a href=https://mwouts.github.io/itables/><svg class=\"main-svg\" xmlns=\"http://www.w3.org/2000/svg\" xmlns:xlink=\"http://www.w3.org/1999/xlink\"\n",
       "width=\"64\" viewBox=\"0 0 500 400\" style=\"font-family: 'Droid Sans', sans-serif;\">\n",
       "    <g style=\"fill:#d9d7fc\">\n",
       "        <path d=\"M100,400H500V357H100Z\" />\n",
       "        <path d=\"M100,300H400V257H100Z\" />\n",
       "        <path d=\"M0,200H400V157H0Z\" />\n",
       "        <path d=\"M100,100H500V57H100Z\" />\n",
       "        <path d=\"M100,350H500V307H100Z\" />\n",
       "        <path d=\"M100,250H400V207H100Z\" />\n",
       "        <path d=\"M0,150H400V107H0Z\" />\n",
       "        <path d=\"M100,50H500V7H100Z\" />\n",
       "    </g>\n",
       "    <g style=\"fill:#1a1366;stroke:#1a1366;\">\n",
       "   <rect x=\"100\" y=\"7\" width=\"400\" height=\"43\">\n",
       "    <animate\n",
       "      attributeName=\"width\"\n",
       "      values=\"0;400;0\"\n",
       "      dur=\"5s\"\n",
       "      repeatCount=\"indefinite\" />\n",
       "      <animate\n",
       "      attributeName=\"x\"\n",
       "      values=\"100;100;500\"\n",
       "      dur=\"5s\"\n",
       "      repeatCount=\"indefinite\" />\n",
       "  </rect>\n",
       "        <rect x=\"0\" y=\"107\" width=\"400\" height=\"43\">\n",
       "    <animate\n",
       "      attributeName=\"width\"\n",
       "      values=\"0;400;0\"\n",
       "      dur=\"3.5s\"\n",
       "      repeatCount=\"indefinite\" />\n",
       "    <animate\n",
       "      attributeName=\"x\"\n",
       "      values=\"0;0;400\"\n",
       "      dur=\"3.5s\"\n",
       "      repeatCount=\"indefinite\" />\n",
       "  </rect>\n",
       "        <rect x=\"100\" y=\"207\" width=\"300\" height=\"43\">\n",
       "    <animate\n",
       "      attributeName=\"width\"\n",
       "      values=\"0;300;0\"\n",
       "      dur=\"3s\"\n",
       "      repeatCount=\"indefinite\" />\n",
       "    <animate\n",
       "      attributeName=\"x\"\n",
       "      values=\"100;100;400\"\n",
       "      dur=\"3s\"\n",
       "      repeatCount=\"indefinite\" />\n",
       "  </rect>\n",
       "        <rect x=\"100\" y=\"307\" width=\"400\" height=\"43\">\n",
       "    <animate\n",
       "      attributeName=\"width\"\n",
       "      values=\"0;400;0\"\n",
       "      dur=\"4s\"\n",
       "      repeatCount=\"indefinite\" />\n",
       "      <animate\n",
       "      attributeName=\"x\"\n",
       "      values=\"100;100;500\"\n",
       "      dur=\"4s\"\n",
       "      repeatCount=\"indefinite\" />\n",
       "  </rect>\n",
       "        <g style=\"fill:transparent;stroke-width:8; stroke-linejoin:round\" rx=\"5\">\n",
       "            <g transform=\"translate(45 50) rotate(-45)\">\n",
       "                <circle r=\"33\" cx=\"0\" cy=\"0\" />\n",
       "                <rect x=\"-8\" y=\"32\" width=\"16\" height=\"30\" />\n",
       "            </g>\n",
       "\n",
       "            <g transform=\"translate(450 152)\">\n",
       "                <polyline points=\"-15,-20 -35,-20 -35,40 25,40 25,20\" />\n",
       "                <rect x=\"-15\" y=\"-40\" width=\"60\" height=\"60\" />\n",
       "            </g>\n",
       "\n",
       "            <g transform=\"translate(50 352)\">\n",
       "                <polygon points=\"-35,-5 0,-40 35,-5\" />\n",
       "                <polygon points=\"-35,10 0,45 35,10\" />\n",
       "            </g>\n",
       "\n",
       "            <g transform=\"translate(75 250)\">\n",
       "                <polyline points=\"-30,30 -60,0 -30,-30\" />\n",
       "                <polyline points=\"0,30 -30,0 0,-30\" />\n",
       "            </g>\n",
       "\n",
       "            <g transform=\"translate(425 250) rotate(180)\">\n",
       "                <polyline points=\"-30,30 -60,0 -30,-30\" />\n",
       "                <polyline points=\"0,30 -30,0 0,-30\" />\n",
       "            </g>\n",
       "        </g>\n",
       "    </g>\n",
       "</svg>\n",
       "</a>\n",
       "Loading ITables v2.3.0 from the internet...\n",
       "(need <a href=https://mwouts.github.io/itables/troubleshooting.html>help</a>?)</td>\n",
       "</tr></tbody>\n",
       "</table>\n",
       "<link href=\"https://www.unpkg.com/dt_for_itables@2.2.0/dt_bundle.css\" rel=\"stylesheet\">\n",
       "<script type=\"module\">\n",
       "    import {DataTable, jQuery as $} from 'https://www.unpkg.com/dt_for_itables@2.2.0/dt_bundle.js';\n",
       "\n",
       "    document.querySelectorAll(\"#itables_c9553420_3dc0_4ebd_8a1d_7aa4ffc6df6a:not(.dataTable)\").forEach(table => {\n",
       "        if (!(table instanceof HTMLTableElement))\n",
       "            return;\n",
       "\n",
       "        // Define the table data\n",
       "        const data = [[\"CVE-2016-1409\", 4891], [\"CVE-2017-6770\", 3788], [\"CVE-2016-6380\", 3334], [\"CVE-2021-3942\", 2942], [\"CVE-2024-20433\", 2434], [\"CVE-2008-4609\", 2046], [\"CVE-2020-3201\", 1917], [\"CVE-2019-1761\", 1762], [\"CVE-2021-34705\", 1721], [\"CVE-2009-5040\", 1550], [\"CVE-2022-20920\", 1446], [\"CVE-2007-5381\", 1429], [\"CVE-2011-2395\", 1409], [\"CVE-2017-5753\", 1388], [\"CVE-2020-0551\", 1321], [\"CVE-2021-0114\", 1312], [\"CVE-2021-0144\", 1312], [\"CVE-2020-3204\", 1283], [\"CVE-2020-3200\", 1198], [\"CVE-2018-0197\", 1195]];\n",
       "\n",
       "        // Define the dt_args\n",
       "        let dt_args = {\"scrollCollapse\": true, \"paging\": false, \"dom\": \"tpir\", \"order\": [], \"warn_on_selected_rows_not_rendered\": true};\n",
       "        dt_args[\"data\"] = data;\n",
       "\n",
       "        \n",
       "        new DataTable(table, dt_args);\n",
       "    });\n",
       "</script>\n"
      ],
      "text/plain": [
       "<IPython.core.display.HTML object>"
      ]
     },
     "metadata": {},
     "output_type": "display_data"
    }
   ],
   "source": [
    "# Calculate the counts of CVEs\n",
    "cve_counts = nvd['CVE'].value_counts().reset_index()\n",
    "cve_counts.columns = ['CVE', 'Count']\n",
    "\n",
    "# Display the top 20 CVEs\n",
    "show(cve_counts.head(20), scrollCollapse=True, paging=False)"
   ]
  },
  {
   "cell_type": "markdown",
   "id": "6e5141bf",
   "metadata": {},
   "source": [
    "### Most Common CPEs"
   ]
  },
  {
   "cell_type": "code",
   "execution_count": 4,
   "id": "bd16e9ab",
   "metadata": {
    "execution": {
     "iopub.execute_input": "2025-04-07T08:18:45.968031Z",
     "iopub.status.busy": "2025-04-07T08:18:45.967604Z",
     "iopub.status.idle": "2025-04-07T08:18:46.441486Z",
     "shell.execute_reply": "2025-04-07T08:18:46.440884Z"
    },
    "tags": [
     "remove-input"
    ]
   },
   "outputs": [
    {
     "data": {
      "text/html": [
       "<table id=\"itables_927b4ac3_ca6e_47f9_a01e_ff13e0e83853\" class=\"display nowrap\" data-quarto-disable-processing=\"true\" style=\"table-layout:auto;width:auto\">\n",
       "<thead>\n",
       "    <tr style=\"text-align: right;\">\n",
       "      \n",
       "      <th>CPE</th>\n",
       "      <th>Count</th>\n",
       "    </tr>\n",
       "  </thead><tbody><tr>\n",
       "<td style=\"vertical-align:middle; text-align:left\">\n",
       "<a href=https://mwouts.github.io/itables/><svg class=\"main-svg\" xmlns=\"http://www.w3.org/2000/svg\" xmlns:xlink=\"http://www.w3.org/1999/xlink\"\n",
       "width=\"64\" viewBox=\"0 0 500 400\" style=\"font-family: 'Droid Sans', sans-serif;\">\n",
       "    <g style=\"fill:#d9d7fc\">\n",
       "        <path d=\"M100,400H500V357H100Z\" />\n",
       "        <path d=\"M100,300H400V257H100Z\" />\n",
       "        <path d=\"M0,200H400V157H0Z\" />\n",
       "        <path d=\"M100,100H500V57H100Z\" />\n",
       "        <path d=\"M100,350H500V307H100Z\" />\n",
       "        <path d=\"M100,250H400V207H100Z\" />\n",
       "        <path d=\"M0,150H400V107H0Z\" />\n",
       "        <path d=\"M100,50H500V7H100Z\" />\n",
       "    </g>\n",
       "    <g style=\"fill:#1a1366;stroke:#1a1366;\">\n",
       "   <rect x=\"100\" y=\"7\" width=\"400\" height=\"43\">\n",
       "    <animate\n",
       "      attributeName=\"width\"\n",
       "      values=\"0;400;0\"\n",
       "      dur=\"5s\"\n",
       "      repeatCount=\"indefinite\" />\n",
       "      <animate\n",
       "      attributeName=\"x\"\n",
       "      values=\"100;100;500\"\n",
       "      dur=\"5s\"\n",
       "      repeatCount=\"indefinite\" />\n",
       "  </rect>\n",
       "        <rect x=\"0\" y=\"107\" width=\"400\" height=\"43\">\n",
       "    <animate\n",
       "      attributeName=\"width\"\n",
       "      values=\"0;400;0\"\n",
       "      dur=\"3.5s\"\n",
       "      repeatCount=\"indefinite\" />\n",
       "    <animate\n",
       "      attributeName=\"x\"\n",
       "      values=\"0;0;400\"\n",
       "      dur=\"3.5s\"\n",
       "      repeatCount=\"indefinite\" />\n",
       "  </rect>\n",
       "        <rect x=\"100\" y=\"207\" width=\"300\" height=\"43\">\n",
       "    <animate\n",
       "      attributeName=\"width\"\n",
       "      values=\"0;300;0\"\n",
       "      dur=\"3s\"\n",
       "      repeatCount=\"indefinite\" />\n",
       "    <animate\n",
       "      attributeName=\"x\"\n",
       "      values=\"100;100;400\"\n",
       "      dur=\"3s\"\n",
       "      repeatCount=\"indefinite\" />\n",
       "  </rect>\n",
       "        <rect x=\"100\" y=\"307\" width=\"400\" height=\"43\">\n",
       "    <animate\n",
       "      attributeName=\"width\"\n",
       "      values=\"0;400;0\"\n",
       "      dur=\"4s\"\n",
       "      repeatCount=\"indefinite\" />\n",
       "      <animate\n",
       "      attributeName=\"x\"\n",
       "      values=\"100;100;500\"\n",
       "      dur=\"4s\"\n",
       "      repeatCount=\"indefinite\" />\n",
       "  </rect>\n",
       "        <g style=\"fill:transparent;stroke-width:8; stroke-linejoin:round\" rx=\"5\">\n",
       "            <g transform=\"translate(45 50) rotate(-45)\">\n",
       "                <circle r=\"33\" cx=\"0\" cy=\"0\" />\n",
       "                <rect x=\"-8\" y=\"32\" width=\"16\" height=\"30\" />\n",
       "            </g>\n",
       "\n",
       "            <g transform=\"translate(450 152)\">\n",
       "                <polyline points=\"-15,-20 -35,-20 -35,40 25,40 25,20\" />\n",
       "                <rect x=\"-15\" y=\"-40\" width=\"60\" height=\"60\" />\n",
       "            </g>\n",
       "\n",
       "            <g transform=\"translate(50 352)\">\n",
       "                <polygon points=\"-35,-5 0,-40 35,-5\" />\n",
       "                <polygon points=\"-35,10 0,45 35,10\" />\n",
       "            </g>\n",
       "\n",
       "            <g transform=\"translate(75 250)\">\n",
       "                <polyline points=\"-30,30 -60,0 -30,-30\" />\n",
       "                <polyline points=\"0,30 -30,0 0,-30\" />\n",
       "            </g>\n",
       "\n",
       "            <g transform=\"translate(425 250) rotate(180)\">\n",
       "                <polyline points=\"-30,30 -60,0 -30,-30\" />\n",
       "                <polyline points=\"0,30 -30,0 0,-30\" />\n",
       "            </g>\n",
       "        </g>\n",
       "    </g>\n",
       "</svg>\n",
       "</a>\n",
       "Loading ITables v2.3.0 from the internet...\n",
       "(need <a href=https://mwouts.github.io/itables/troubleshooting.html>help</a>?)</td>\n",
       "</tr></tbody>\n",
       "</table>\n",
       "<link href=\"https://www.unpkg.com/dt_for_itables@2.2.0/dt_bundle.css\" rel=\"stylesheet\">\n",
       "<script type=\"module\">\n",
       "    import {DataTable, jQuery as $} from 'https://www.unpkg.com/dt_for_itables@2.2.0/dt_bundle.js';\n",
       "\n",
       "    document.querySelectorAll(\"#itables_927b4ac3_ca6e_47f9_a01e_ff13e0e83853:not(.dataTable)\").forEach(table => {\n",
       "        if (!(table instanceof HTMLTableElement))\n",
       "            return;\n",
       "\n",
       "        // Define the table data\n",
       "        const data = [[\"cpe:2.3:o:linux:linux_kernel:*:*:*:*:*:*:*:*\", 19840], [\"cpe:2.3:o:debian:debian_linux:9.0:*:*:*:*:*:*:*\", 3999], [\"cpe:2.3:o:apple:iphone_os:*:*:*:*:*:*:*:*\", 3748], [\"cpe:2.3:a:google:chrome:*:*:*:*:*:*:*:*\", 3616], [\"cpe:2.3:o:debian:debian_linux:8.0:*:*:*:*:*:*:*\", 3481], [\"cpe:2.3:o:debian:debian_linux:10.0:*:*:*:*:*:*:*\", 3246], [\"cpe:2.3:o:microsoft:windows_server_2012:r2:*:*:*:*:*:*:*\", 3091], [\"cpe:2.3:o:apple:macos:*:*:*:*:*:*:*:*\", 2969], [\"cpe:2.3:o:microsoft:windows_server_2012:-:*:*:*:*:*:*:*\", 2949], [\"cpe:2.3:o:microsoft:windows_server_2019:-:*:*:*:*:*:*:*\", 2740], [\"cpe:2.3:o:apple:mac_os_x:*:*:*:*:*:*:*:*\", 2725], [\"cpe:2.3:o:microsoft:windows_server_2016:-:*:*:*:*:*:*:*\", 2676], [\"cpe:2.3:a:gitlab:gitlab:*:*:*:*:enterprise:*:*:*\", 2441], [\"cpe:2.3:a:mozilla:firefox:*:*:*:*:*:*:*:*\", 2431], [\"cpe:2.3:a:adobe:acrobat_dc:*:*:*:*:classic:*:*:*\", 2377], [\"cpe:2.3:a:adobe:acrobat_reader_dc:*:*:*:*:classic:*:*:*\", 2374], [\"cpe:2.3:a:gitlab:gitlab:*:*:*:*:community:*:*:*\", 2139], [\"cpe:2.3:o:microsoft:windows_server_2008:r2:sp1:*:*:*:*:x64:*\", 2103], [\"cpe:2.3:a:adobe:flash_player:*:*:*:*:*:*:*:*\", 1993], [\"cpe:2.3:a:oracle:mysql:*:*:*:*:*:*:*:*\", 1971]];\n",
       "\n",
       "        // Define the dt_args\n",
       "        let dt_args = {\"scrollCollapse\": true, \"paging\": false, \"dom\": \"tpir\", \"order\": [], \"warn_on_selected_rows_not_rendered\": true};\n",
       "        dt_args[\"data\"] = data;\n",
       "\n",
       "        \n",
       "        new DataTable(table, dt_args);\n",
       "    });\n",
       "</script>\n"
      ],
      "text/plain": [
       "<IPython.core.display.HTML object>"
      ]
     },
     "metadata": {},
     "output_type": "display_data"
    }
   ],
   "source": [
    "# Calculate the counts of CPEs\n",
    "cpe_counts = nvd['CPE'].value_counts().reset_index()\n",
    "cpe_counts.columns = ['CPE', 'Count']\n",
    "\n",
    "# Display the top 20 CPEs\n",
    "show(cpe_counts.head(20), scrollCollapse=True, paging=False)"
   ]
  },
  {
   "attachments": {},
   "cell_type": "markdown",
   "id": "5dbbc915",
   "metadata": {
    "tags": [
     "hide-input"
    ]
   },
   "source": [
    "### Number of CPEs"
   ]
  },
  {
   "cell_type": "code",
   "execution_count": 5,
   "id": "04a26e54",
   "metadata": {
    "execution": {
     "iopub.execute_input": "2025-04-07T08:18:46.443590Z",
     "iopub.status.busy": "2025-04-07T08:18:46.443129Z",
     "iopub.status.idle": "2025-04-07T08:18:47.125793Z",
     "shell.execute_reply": "2025-04-07T08:18:47.125201Z"
    },
    "tags": [
     "remove-input"
    ]
   },
   "outputs": [
    {
     "name": "stdout",
     "output_type": "stream",
     "text": [
      "There are 349,579 unique CPEs across 246,559 total CVEs.\n"
     ]
    }
   ],
   "source": [
    "# Calculate the number of unique CPEs\n",
    "unique_cpes = nvd['CPE'].nunique()\n",
    "\n",
    "# Calculate the total number of CVEs\n",
    "total_cves = nvd['CVE'].nunique()\n",
    "\n",
    "# Create a sentence with the information, adding commas to the numbers\n",
    "sentence = f\"There are {unique_cpes:,} unique CPEs across {total_cves:,} total CVEs.\"\n",
    "\n",
    "# Display the sentence\n",
    "print(sentence)"
   ]
  },
  {
   "cell_type": "code",
   "execution_count": 6,
   "id": "20ee3a71",
   "metadata": {
    "execution": {
     "iopub.execute_input": "2025-04-07T08:18:47.127803Z",
     "iopub.status.busy": "2025-04-07T08:18:47.127480Z",
     "iopub.status.idle": "2025-04-07T08:18:47.131449Z",
     "shell.execute_reply": "2025-04-07T08:18:47.130991Z"
    },
    "tags": [
     "remove-input"
    ]
   },
   "outputs": [
    {
     "data": {
      "text/markdown": [
       "This report is updated automatically every day, last generated on: **2025-04-07 08:18:47.128583**"
      ],
      "text/plain": [
       "<IPython.core.display.Markdown object>"
      ]
     },
     "execution_count": 6,
     "metadata": {},
     "output_type": "execute_result"
    }
   ],
   "source": [
    "Markdown(f\"This report is updated automatically every day, last generated on: **{datetime.datetime.now()}**\")"
   ]
  }
 ],
 "metadata": {
  "kernelspec": {
   "display_name": "Python 3",
   "language": "python",
   "name": "python3"
  },
  "language_info": {
   "codemirror_mode": {
    "name": "ipython",
    "version": 3
   },
   "file_extension": ".py",
   "mimetype": "text/x-python",
   "name": "python",
   "nbconvert_exporter": "python",
   "pygments_lexer": "ipython3",
   "version": "3.13.2"
  }
 },
 "nbformat": 4,
 "nbformat_minor": 5
}
