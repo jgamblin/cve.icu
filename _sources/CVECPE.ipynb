{
 "cells": [
  {
   "cell_type": "markdown",
   "id": "b3e3ebf1-3bba-41b2-9b9f-70bb80a9ad50",
   "metadata": {
    "tags": []
   },
   "source": [
    "# CPE Data"
   ]
  },
  {
   "cell_type": "markdown",
   "id": "03339cf8",
   "metadata": {},
   "source": [
    "### To Fix"
   ]
  },
  {
   "cell_type": "code",
   "execution_count": 1,
   "id": "stuffed-appearance",
   "metadata": {
    "execution": {
     "iopub.execute_input": "2024-01-08T04:20:25.095160Z",
     "iopub.status.busy": "2024-01-08T04:20:25.095006Z",
     "iopub.status.idle": "2024-01-08T04:20:25.578743Z",
     "shell.execute_reply": "2024-01-08T04:20:25.578121Z"
    },
    "tags": [
     "remove-cell"
    ]
   },
   "outputs": [],
   "source": [
    "import glob\n",
    "import logging\n",
    "import json\n",
    "import os\n",
    "import pandas as pd\n",
    "import warnings\n",
    "from itables import init_notebook_mode, show\n",
    "import itables.options as opt\n",
    "\n",
    "opt.dom = \"tpir\"\n",
    "opt.style = \"table-layout:auto;width:auto\"\n",
    "init_notebook_mode(all_interactive=True, connected=True)\n",
    "\n",
    "logging.getLogger('matplotlib.font_manager').disabled = True\n",
    "warnings.filterwarnings(\"ignore\")"
   ]
  },
  {
   "cell_type": "code",
   "execution_count": 2,
   "id": "inner-count",
   "metadata": {
    "execution": {
     "iopub.execute_input": "2024-01-08T04:20:25.581427Z",
     "iopub.status.busy": "2024-01-08T04:20:25.581165Z",
     "iopub.status.idle": "2024-01-08T04:20:58.506482Z",
     "shell.execute_reply": "2024-01-08T04:20:58.505932Z"
    },
    "tags": [
     "remove-cell"
    ]
   },
   "outputs": [],
   "source": [
    "row_accumulator = []\n",
    "\n",
    "for filename in glob.glob('nvdcve-1.1-*.json'):\n",
    "    with open(filename, 'r', encoding='utf-8') as f:\n",
    "        nvd_data = json.load(f)\n",
    "        for cves in nvd_data['CVE_Items']:\n",
    "            if cves['configurations']['nodes'] != []:\n",
    "                if \"children\" in cves['configurations']['nodes'][0]:\n",
    "                    for j in range(len(cves['configurations']['nodes'][0]['children'])):\n",
    "                        for cpe in cves['configurations']['nodes'][0]['children'][j]['cpe_match']:\n",
    "                            if cpe['vulnerable'] == True:\n",
    "                                        cve = cves['cve']['CVE_data_meta']['ID']\n",
    "                                        cpe_string = cpe['cpe23Uri']\n",
    "                                        try:\n",
    "                                            end = cpe['versionEndExcluding']\n",
    "                                        except: \n",
    "                                            end = 'None'\n",
    "                                        try:\n",
    "                                            end2 = cpe['versionEndIncluding']\n",
    "                                        except: \n",
    "                                            end2 = 'None' \n",
    "                                        try:\n",
    "                                            start = cpe['versionStartExcluding']\n",
    "                                        except: \n",
    "                                            start = 'None'\n",
    "                                        try:\n",
    "                                            start2 = cpe['versionStartIncluding']\n",
    "                                        except: \n",
    "                                            start2 = 'None'     \n",
    "                                        new_row = { \n",
    "                                        'CVE': cve,\n",
    "                                        'CPE' : cpe_string,\n",
    "                                        'StartI' : start,\n",
    "                                        'StartE' : start2,\n",
    "                                        'EndI' : end,\n",
    "                                        'EndE' : end2 \n",
    "                                        }\n",
    "                                        row_accumulator.append(new_row)\n",
    "        \n",
    "\n",
    "\n",
    "nvd = pd.DataFrame(row_accumulator)                            "
   ]
  },
  {
   "cell_type": "markdown",
   "id": "833383cc-8ef0-4490-acdc-98671760b1a3",
   "metadata": {},
   "source": [
    "## entry With Most CPE"
   ]
  },
  {
   "cell_type": "code",
   "execution_count": 3,
   "id": "temporal-disposal",
   "metadata": {
    "execution": {
     "iopub.execute_input": "2024-01-08T04:20:58.509083Z",
     "iopub.status.busy": "2024-01-08T04:20:58.508761Z",
     "iopub.status.idle": "2024-01-08T04:20:58.535034Z",
     "shell.execute_reply": "2024-01-08T04:20:58.534500Z"
    },
    "tags": [
     "remove-input"
    ]
   },
   "outputs": [
    {
     "data": {
      "text/html": [
       "<style>.itables table td {\n",
       "    text-overflow: ellipsis;\n",
       "    overflow: hidden;\n",
       "}\n",
       "\n",
       ".itables table th {\n",
       "    text-overflow: ellipsis;\n",
       "    overflow: hidden;\n",
       "}\n",
       "\n",
       ".itables thead input {\n",
       "    width: 100%;\n",
       "    padding: 3px;\n",
       "    box-sizing: border-box;\n",
       "}\n",
       "\n",
       ".itables tfoot input {\n",
       "    width: 100%;\n",
       "    padding: 3px;\n",
       "    box-sizing: border-box;\n",
       "}\n",
       "</style>\n",
       "<div class=\"itables\">\n",
       "<table id=\"d5b28c86-adee-4142-9cb5-ce4405192fd4\" class=\"display nowrap\"style=\"table-layout:auto;width:auto\"><thead>\n",
       "    <tr style=\"text-align: right;\">\n",
       "      <th></th>\n",
       "      <th>count</th>\n",
       "    </tr>\n",
       "    <tr>\n",
       "      <th>CVE</th>\n",
       "      <th></th>\n",
       "    </tr>\n",
       "  </thead><tbody><tr><td>Loading... (need <a href=https://mwouts.github.io/itables/troubleshooting.html>help</a>?)</td></tr></tbody></table>\n",
       "<link rel=\"stylesheet\" type=\"text/css\" href=\"https://cdn.datatables.net/1.13.1/css/jquery.dataTables.min.css\">\n",
       "<script type=\"module\">\n",
       "    // Import jquery and DataTable\n",
       "    import 'https://code.jquery.com/jquery-3.6.0.min.js';\n",
       "    import dt from 'https://cdn.datatables.net/1.12.1/js/jquery.dataTables.mjs';\n",
       "    dt($);\n",
       "\n",
       "    // Define the table data\n",
       "    const data = [[\"CVE-2021-1620\", 690], [\"CVE-2022-22160\", 364], [\"CVE-2011-3664\", 325], [\"CVE-2012-1350\", 322], [\"CVE-2007-6694\", 316], [\"CVE-2008-7256\", 303], [\"CVE-2011-1011\", 270], [\"CVE-2021-31366\", 267], [\"CVE-2012-5120\", 248], [\"CVE-2016-5995\", 243], [\"CVE-2010-0741\", 241], [\"CVE-2022-22226\", 240], [\"CVE-2023-44183\", 240], [\"CVE-2021-31382\", 239], [\"CVE-2021-0272\", 235], [\"CVE-2021-0228\", 231], [\"CVE-2020-1680\", 228], [\"CVE-2009-2711\", 226], [\"CVE-2021-0273\", 226], [\"CVE-2011-2366\", 225], [\"CVE-2011-3666\", 225], [\"CVE-2009-2486\", 222], [\"CVE-2022-22223\", 222], [\"CVE-2009-2596\", 222], [\"CVE-2020-1628\", 221], [\"CVE-2014-1506\", 217], [\"CVE-2021-0237\", 216], [\"CVE-2022-20725\", 215], [\"CVE-2023-36848\", 213], [\"CVE-2021-0285\", 210], [\"CVE-2022-22191\", 208], [\"CVE-2023-36850\", 207], [\"CVE-2012-5216\", 204], [\"CVE-2020-1618\", 203], [\"CVE-2021-0288\", 202], [\"CVE-2023-20187\", 201], [\"CVE-2021-0295\", 200], [\"CVE-2022-22249\", 197], [\"CVE-2021-0203\", 192], [\"CVE-2023-20027\", 190], [\"CVE-2021-0259\", 184], [\"CVE-2021-0230\", 182], [\"CVE-2021-31361\", 182], [\"CVE-2021-31370\", 181], [\"CVE-2023-36832\", 181], [\"CVE-2021-0242\", 180], [\"CVE-2012-3979\", 179], [\"CVE-2013-0790\", 179], [\"CVE-2010-2761\", 174], [\"CVE-2022-22234\", 174]];\n",
       "\n",
       "    // Define the dt_args\n",
       "    let dt_args = {\"scrollY\": \"400px\", \"scrollCollapse\": true, \"paging\": false, \"dom\": \"tpir\", \"order\": []};\n",
       "    dt_args[\"data\"] = data;\n",
       "\n",
       "    $(document).ready(function () {\n",
       "        \n",
       "        $('#d5b28c86-adee-4142-9cb5-ce4405192fd4').DataTable(dt_args);\n",
       "    });\n",
       "</script>\n",
       "</div>\n"
      ],
      "text/plain": [
       "<IPython.core.display.HTML object>"
      ]
     },
     "metadata": {},
     "output_type": "display_data"
    }
   ],
   "source": [
    "nvd_cve = nvd['CVE'].value_counts().head(50)\n",
    "show(nvd_cve, scrollY=\"400px\", scrollCollapse=True, paging=False)"
   ]
  },
  {
   "cell_type": "markdown",
   "id": "69850125-3841-48cd-a36d-1cf998c68272",
   "metadata": {},
   "source": [
    "## Most Common CPEs"
   ]
  },
  {
   "cell_type": "code",
   "execution_count": 4,
   "id": "celtic-employer",
   "metadata": {
    "execution": {
     "iopub.execute_input": "2024-01-08T04:20:58.537119Z",
     "iopub.status.busy": "2024-01-08T04:20:58.536861Z",
     "iopub.status.idle": "2024-01-08T04:20:58.568592Z",
     "shell.execute_reply": "2024-01-08T04:20:58.568156Z"
    },
    "tags": [
     "remove-input"
    ]
   },
   "outputs": [
    {
     "data": {
      "text/html": [
       "<style>.itables table td {\n",
       "    text-overflow: ellipsis;\n",
       "    overflow: hidden;\n",
       "}\n",
       "\n",
       ".itables table th {\n",
       "    text-overflow: ellipsis;\n",
       "    overflow: hidden;\n",
       "}\n",
       "\n",
       ".itables thead input {\n",
       "    width: 100%;\n",
       "    padding: 3px;\n",
       "    box-sizing: border-box;\n",
       "}\n",
       "\n",
       ".itables tfoot input {\n",
       "    width: 100%;\n",
       "    padding: 3px;\n",
       "    box-sizing: border-box;\n",
       "}\n",
       "</style>\n",
       "<div class=\"itables\">\n",
       "<table id=\"1abeaf9f-9071-49af-847d-7cc1ce2eb040\" class=\"display nowrap\"style=\"table-layout:auto;width:auto\"><thead>\n",
       "    <tr style=\"text-align: right;\">\n",
       "      <th></th>\n",
       "      <th>count</th>\n",
       "    </tr>\n",
       "    <tr>\n",
       "      <th>CPE</th>\n",
       "      <th></th>\n",
       "    </tr>\n",
       "  </thead><tbody><tr><td>Loading... (need <a href=https://mwouts.github.io/itables/troubleshooting.html>help</a>?)</td></tr></tbody></table>\n",
       "<link rel=\"stylesheet\" type=\"text/css\" href=\"https://cdn.datatables.net/1.13.1/css/jquery.dataTables.min.css\">\n",
       "<script type=\"module\">\n",
       "    // Import jquery and DataTable\n",
       "    import 'https://code.jquery.com/jquery-3.6.0.min.js';\n",
       "    import dt from 'https://cdn.datatables.net/1.12.1/js/jquery.dataTables.mjs';\n",
       "    dt($);\n",
       "\n",
       "    // Define the table data\n",
       "    const data = [[\"cpe:2.3:a:adobe:acrobat_dc:*:*:*:*:classic:*:*:*\", 2015], [\"cpe:2.3:a:adobe:acrobat_reader_dc:*:*:*:*:classic:*:*:*\", 2014], [\"cpe:2.3:a:adobe:acrobat_dc:*:*:*:*:continuous:*:*:*\", 1530], [\"cpe:2.3:a:adobe:acrobat_reader_dc:*:*:*:*:continuous:*:*:*\", 1524], [\"cpe:2.3:o:google:android:12.0:*:*:*:*:*:*:*\", 866], [\"cpe:2.3:o:google:android:11.0:*:*:*:*:*:*:*\", 836], [\"cpe:2.3:a:adobe:flash_player:*:*:*:*:*:*:*:*\", 715], [\"cpe:2.3:a:adobe:acrobat:*:*:*:*:*:*:*:*\", 651], [\"cpe:2.3:o:google:android:10.0:*:*:*:*:*:*:*\", 568], [\"cpe:2.3:a:google:chrome:*:*:*:*:*:*:*:*\", 442], [\"cpe:2.3:o:google:android:13.0:*:*:*:*:*:*:*\", 413], [\"cpe:2.3:a:foxitsoftware:phantompdf:*:*:*:*:*:*:*:*\", 374], [\"cpe:2.3:a:adobe:reader:*:*:*:*:*:*:*:*\", 356], [\"cpe:2.3:o:qualcomm:apq8009_firmware:-:*:*:*:*:*:*:*\", 329], [\"cpe:2.3:a:adobe:acrobat_reader:*:*:*:*:*:*:*:*\", 300], [\"cpe:2.3:o:qualcomm:mdm9206_firmware:-:*:*:*:*:*:*:*\", 266], [\"cpe:2.3:a:microsoft:edge:-:*:*:*:*:*:*:*\", 217], [\"cpe:2.3:a:foxitsoftware:reader:*:*:*:*:*:*:*:*\", 194], [\"cpe:2.3:a:mozilla:firefox:*:*:*:*:*:*:*:*\", 190], [\"cpe:2.3:a:sandhillsdev:easy_digital_downloads:*:*:*:*:*:wordpress:*:*\", 186], [\"cpe:2.3:a:apple:safari:*:*:*:*:*:*:*:*\", 179], [\"cpe:2.3:o:qualcomm:aqt1000_firmware:-:*:*:*:*:*:*:*\", 175], [\"cpe:2.3:a:apple:webkit:*:*:*:*:*:*:*:*\", 156], [\"cpe:2.3:a:foxitsoftware:foxit_reader:*:*:*:*:*:*:*:*\", 153], [\"cpe:2.3:o:arubanetworks:arubaos:*:*:*:*:*:*:*:*\", 148], [\"cpe:2.3:a:nvidia:virtual_gpu:*:*:*:*:*:*:*:*\", 139], [\"cpe:2.3:a:foxit:pdf_editor:*:*:*:*:*:*:*:*\", 136], [\"cpe:2.3:o:cisco:adaptive_security_appliance_software:*:*:*:*:*:*:*:*\", 134], [\"cpe:2.3:a:microsoft:edge:*:*:*:*:*:*:*:*\", 125], [\"cpe:2.3:a:adobe:bridge:*:*:*:*:*:*:*:*\", 125], [\"cpe:2.3:a:adobe:illustrator:*:*:*:*:*:*:*:*\", 123], [\"cpe:2.3:a:adobe:indesign:*:*:*:*:*:*:*:*\", 117], [\"cpe:2.3:o:cisco:nx-os:*:*:*:*:*:*:*:*\", 115], [\"cpe:2.3:a:adobe:acrobat_reader:*:*:*:*:classic:*:*:*\", 115], [\"cpe:2.3:a:adobe:acrobat:*:*:*:*:classic:*:*:*\", 115], [\"cpe:2.3:a:adobe:photoshop_cc:*:*:*:*:*:*:*:*\", 113], [\"cpe:2.3:a:adobe:after_effects:*:*:*:*:*:*:*:*\", 112], [\"cpe:2.3:a:adobe:flash_player_desktop_runtime:*:*:*:*:*:*:*:*\", 111], [\"cpe:2.3:o:netgear:d7800_firmware:*:*:*:*:*:*:*:*\", 107], [\"cpe:2.3:a:adobe:photoshop:*:*:*:*:*:*:*:*\", 105], [\"cpe:2.3:o:google:android:11.0:-:*:*:*:*:*:*\", 100], [\"cpe:2.3:a:foxit:pdf_reader:*:*:*:*:*:*:*:*\", 97], [\"cpe:2.3:o:qualcomm:ar8035_firmware:-:*:*:*:*:*:*:*\", 96], [\"cpe:2.3:a:nvidia:gpu_driver:*:*:*:*:*:*:*:*\", 96], [\"cpe:2.3:o:insteon:hub_firmware:1012:*:*:*:*:*:*:*\", 95], [\"cpe:2.3:a:apple:itunes:*:*:*:*:*:*:*:*\", 91], [\"cpe:2.3:o:reolink:rlc-410w_firmware:3.0.0.136_20121102:*:*:*:*:*:*:*\", 87], [\"cpe:2.3:a:microsoft:internet_explorer:6:*:*:*:*:*:*:*\", 87], [\"cpe:2.3:o:juniper:junos:20.4:r1:*:*:*:*:*:*\", 85], [\"cpe:2.3:a:adobe:dimension:*:*:*:*:*:*:*:*\", 84]];\n",
       "\n",
       "    // Define the dt_args\n",
       "    let dt_args = {\"scrollY\": \"400px\", \"scrollCollapse\": true, \"paging\": false, \"dom\": \"tpir\", \"order\": []};\n",
       "    dt_args[\"data\"] = data;\n",
       "\n",
       "    $(document).ready(function () {\n",
       "        \n",
       "        $('#1abeaf9f-9071-49af-847d-7cc1ce2eb040').DataTable(dt_args);\n",
       "    });\n",
       "</script>\n",
       "</div>\n"
      ],
      "text/plain": [
       "<IPython.core.display.HTML object>"
      ]
     },
     "metadata": {},
     "output_type": "display_data"
    }
   ],
   "source": [
    "nvd_cpe = nvd['CPE'].value_counts().head(50)\n",
    "show(nvd_cpe, scrollY=\"400px\", scrollCollapse=True, paging=False)"
   ]
  }
 ],
 "metadata": {
  "kernelspec": {
   "display_name": "Python 3.10.6 64-bit",
   "language": "python",
   "name": "python3"
  },
  "language_info": {
   "codemirror_mode": {
    "name": "ipython",
    "version": 3
   },
   "file_extension": ".py",
   "mimetype": "text/x-python",
   "name": "python",
   "nbconvert_exporter": "python",
   "pygments_lexer": "ipython3",
   "version": "3.11.7"
  },
  "vscode": {
   "interpreter": {
    "hash": "aee8b7b246df8f9039afb4144a1f6fd8d2ca17a180786b69acc140d282b71a49"
   }
  }
 },
 "nbformat": 4,
 "nbformat_minor": 5
}
